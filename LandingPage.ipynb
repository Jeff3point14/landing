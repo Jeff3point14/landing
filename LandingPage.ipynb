{
 "cells": [
  {
   "cell_type": "markdown",
   "metadata": {},
   "source": [
    "[<img src=\"ME.jpg\" width=\"400\" height=\"400\" align=\"left\" />][2]\n",
    "[2]: http://nbviewer.jupyter.org/github/Jeff3point14/Files4MySite/blob/master/About.ipynb"
   ]
  },
  {
   "cell_type": "markdown",
   "metadata": {},
   "source": [
    "[<img src=\"Jupyter.jpg\" width=\"400\" height=\"400\" align=\"left\" />][2]\n",
    "[2]: http://nbviewer.jupyter.org/github/Jeff3point14/Files4MySite/blob/master/Jupyter.ipynb"
   ]
  },
  {
   "cell_type": "markdown",
   "metadata": {},
   "source": [
    "[<img src=\"SSGW.jpg\" width=\"400\" height=\"400\" align=\"left\" />][2]\n",
    "[2]: http://nbviewer.jupyter.org/github/Jeff3point14/Files4MySite/blob/master/SSGW.ipynb"
   ]
  },
  {
   "cell_type": "markdown",
   "metadata": {},
   "source": [
    "[<img src=\"Fun.jpg\" width=\"400\" height=\"400\" align=\"left\" />][2]\n",
    "[2]: http://nbviewer.jupyter.org/github/Jeff3point14/Files4MySite/blob/master/Fun.ipynb"
   ]
  }
 ],
 "metadata": {
  "anaconda-cloud": {},
  "kernelspec": {
   "display_name": "Python [Root]",
   "language": "python",
   "name": "Python [Root]"
  },
  "language_info": {
   "codemirror_mode": {
    "name": "ipython",
    "version": 3
   },
   "file_extension": ".py",
   "mimetype": "text/x-python",
   "name": "python",
   "nbconvert_exporter": "python",
   "pygments_lexer": "ipython3",
   "version": "3.5.2"
  }
 },
 "nbformat": 4,
 "nbformat_minor": 0
}
